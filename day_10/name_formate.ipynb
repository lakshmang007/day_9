{
 "cells": [
  {
   "cell_type": "code",
   "execution_count": 6,
   "metadata": {},
   "outputs": [
    {
     "name": "stdout",
     "output_type": "stream",
     "text": [
      "Lakshman G\n",
      "Hello Hi\n"
     ]
    },
    {
     "data": {
      "text/plain": [
       "'Hello Hi'"
      ]
     },
     "execution_count": 6,
     "metadata": {},
     "output_type": "execute_result"
    }
   ],
   "source": [
    "def formate_name(f_name, l_name):   \n",
    "    print( f\"{f_name.capitalize()} {l_name.capitalize()}\")\n",
    "    name = f_name + \" \" + l_name\n",
    "    return name.title()\n",
    "formate_name(\"lakshman\", \"g\")\n",
    "formate_name(f_name=input(\"Enter your first name: \"), l_name=input(\"Enter your last name: \"))"
   ]
  }
 ],
 "metadata": {
  "kernelspec": {
   "display_name": "Python 3",
   "language": "python",
   "name": "python3"
  },
  "language_info": {
   "codemirror_mode": {
    "name": "ipython",
    "version": 3
   },
   "file_extension": ".py",
   "mimetype": "text/x-python",
   "name": "python",
   "nbconvert_exporter": "python",
   "pygments_lexer": "ipython3",
   "version": "3.13.2"
  }
 },
 "nbformat": 4,
 "nbformat_minor": 2
}
