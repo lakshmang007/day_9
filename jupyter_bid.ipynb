{
 "cells": [
  {
   "cell_type": "code",
   "execution_count": 6,
   "metadata": {},
   "outputs": [
    {
     "name": "stdout",
     "output_type": "stream",
     "text": [
      "{'name1': 100}\n"
     ]
    }
   ],
   "source": [
    "bid = {}\n",
    "bid[\"name1\"] = 100\n",
    "print(bid)"
   ]
  },
  {
   "cell_type": "code",
   "execution_count": null,
   "metadata": {},
   "outputs": [],
   "source": [
    "import os\n",
    "bid = {}\n",
    "while True:\n",
    "    name = input(\"What is your name?: \")\n",
    "    bid_amount = int(input(\"What is your bid?: $\"))\n",
    "    bid[name] = bid_amount\n",
    "    more_bidders = input(\"Are there any other bidders? Type 'yes' or 'no'.\\n\")\n",
    "    if more_bidders == \"no\":\n",
    "        for key in bid:\n",
    "            high = 0\n",
    "            for i in range(len(bid)):\n",
    "                if bid[key] > high:\n",
    "                    high = bid[key]\n",
    "                    winner = key\n",
    "        print(f\"The winner is {winner} with a bid of ${high}.\")\n",
    "        break\n",
    "\n",
    "    else:\n",
    "        os.system('cls' if os.name == 'nt' else 'clear')"
   ]
  },
  {
   "cell_type": "code",
   "execution_count": null,
   "metadata": {},
   "outputs": [
    {
     "name": "stdout",
     "output_type": "stream",
     "text": [
      "25\n"
     ]
    },
    {
     "data": {
      "text/plain": [
       "25"
      ]
     },
     "execution_count": 15,
     "metadata": {},
     "output_type": "execute_result"
    }
   ],
   "source": []
  }
 ],
 "metadata": {
  "kernelspec": {
   "display_name": "Python 3",
   "language": "python",
   "name": "python3"
  },
  "language_info": {
   "codemirror_mode": {
    "name": "ipython",
    "version": 3
   },
   "file_extension": ".py",
   "mimetype": "text/x-python",
   "name": "python",
   "nbconvert_exporter": "python",
   "pygments_lexer": "ipython3",
   "version": "3.13.2"
  }
 },
 "nbformat": 4,
 "nbformat_minor": 2
}
